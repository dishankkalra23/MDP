{
  "nbformat": 4,
  "nbformat_minor": 0,
  "metadata": {
    "colab": {
      "name": "Basic-ML-Udacity.ipynb",
      "provenance": [],
      "authorship_tag": "ABX9TyNP4KbNPw0fCkcwzszCwE8e",
      "include_colab_link": true
    },
    "kernelspec": {
      "name": "python3",
      "display_name": "Python 3"
    },
    "language_info": {
      "name": "python"
    }
  },
  "cells": [
    {
      "cell_type": "markdown",
      "metadata": {
        "id": "view-in-github",
        "colab_type": "text"
      },
      "source": [
        "<a href=\"https://colab.research.google.com/github/dishankkalra23/MDP/blob/main/Basic_ML_Udacity.ipynb\" target=\"_parent\"><img src=\"https://colab.research.google.com/assets/colab-badge.svg\" alt=\"Open In Colab\"/></a>"
      ]
    },
    {
      "cell_type": "code",
      "metadata": {
        "id": "zs8yzBIzypVR",
        "colab": {
          "base_uri": "https://localhost:8080/"
        },
        "outputId": "88406b2f-bdd4-4b56-fff8-bb7200520a65"
      },
      "source": [
        "!git clone https://github.com/udacity/ud120-projects.git"
      ],
      "execution_count": 1,
      "outputs": [
        {
          "output_type": "stream",
          "text": [
            "Cloning into 'ud120-projects'...\n",
            "remote: Enumerating objects: 5088, done.\u001b[K\n",
            "remote: Counting objects: 100% (13/13), done.\u001b[K\n",
            "remote: Compressing objects: 100% (13/13), done.\u001b[K\n",
            "remote: Total 5088 (delta 6), reused 1 (delta 0), pack-reused 5075\u001b[K\n",
            "Receiving objects: 100% (5088/5088), 19.65 MiB | 8.41 MiB/s, done.\n",
            "Resolving deltas: 100% (4397/4397), done.\n"
          ],
          "name": "stdout"
        }
      ]
    },
    {
      "cell_type": "code",
      "metadata": {
        "colab": {
          "base_uri": "https://localhost:8080/"
        },
        "id": "pg-85KLVysgF",
        "outputId": "9aac5074-c1cf-45dc-ba6c-41f3de627d3e"
      },
      "source": [
        "!python3 /content/ud120-projects/tools/startup.py"
      ],
      "execution_count": 2,
      "outputs": [
        {
          "output_type": "stream",
          "text": [
            "Checking for nltk\n",
            "Checking for numpy\n",
            "Checking for scipy\n",
            "Checking for sklearn\n",
            "Downloading the Enron dataset (this may take a while)\n",
            "To check on progress, you can cd up one level, then execute <ls -lthr>\n",
            "Enron dataset should be last item on the list, along with its current size\n",
            "Download will complete at about 1.82 GB\n",
            "Download Complete!\n",
            "Unzipping Enron dataset (This may take a while)\n",
            "You're ready to go!\n"
          ],
          "name": "stdout"
        }
      ]
    },
    {
      "cell_type": "markdown",
      "metadata": {
        "id": "t7YJMK85MSVG"
      },
      "source": [
        "# Naive Bayes Accuracy - "
      ]
    },
    {
      "cell_type": "code",
      "metadata": {
        "colab": {
          "base_uri": "https://localhost:8080/"
        },
        "id": "pLybKRfEKPNY",
        "outputId": "8629cad4-2008-4bf2-8759-33c9c8f9744e"
      },
      "source": [
        "!python3 nb_author_id.py"
      ],
      "execution_count": 22,
      "outputs": [
        {
          "output_type": "stream",
          "text": [
            "No. of Chris training emails :  7936\n",
            "No. of Sara training emails :  7884\n",
            "Training Time: 0.571 s\n",
            "Predicting Time: 0.057 s\n",
            "0.9732650739476678\n"
          ],
          "name": "stdout"
        }
      ]
    }
  ]
}